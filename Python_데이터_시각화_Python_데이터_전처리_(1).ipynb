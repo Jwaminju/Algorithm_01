{
  "nbformat": 4,
  "nbformat_minor": 0,
  "metadata": {
    "colab": {
      "name": "Python_데이터_시각화_Python_데이터_전처리_(1).ipynb",
      "provenance": [],
      "collapsed_sections": [],
      "authorship_tag": "ABX9TyM4bguUWqZqJMVB4sswavI/",
      "include_colab_link": true
    },
    "kernelspec": {
      "name": "python3",
      "display_name": "Python 3"
    },
    "language_info": {
      "name": "python"
    }
  },
  "cells": [
    {
      "cell_type": "markdown",
      "metadata": {
        "id": "view-in-github",
        "colab_type": "text"
      },
      "source": [
        "<a href=\"https://colab.research.google.com/github/Jwaminju/Algorithm_01/blob/main/Python_%EB%8D%B0%EC%9D%B4%ED%84%B0_%EC%8B%9C%EA%B0%81%ED%99%94_Python_%EB%8D%B0%EC%9D%B4%ED%84%B0_%EC%A0%84%EC%B2%98%EB%A6%AC_(1).ipynb\" target=\"_parent\"><img src=\"https://colab.research.google.com/assets/colab-badge.svg\" alt=\"Open In Colab\"/></a>"
      ]
    },
    {
      "cell_type": "markdown",
      "metadata": {
        "id": "NfmZyeRE9rd1"
      },
      "source": [
        "데이터 전처리\n",
        "- 컬럼 행 삭제, 추가"
      ]
    },
    {
      "cell_type": "code",
      "metadata": {
        "id": "OKyY2vAA9XG1"
      },
      "source": [
        "import pandas as pd"
      ],
      "execution_count": 1,
      "outputs": []
    },
    {
      "cell_type": "code",
      "metadata": {
        "colab": {
          "base_uri": "https://localhost:8080/",
          "height": 173
        },
        "id": "qdEC5ROl-gjt",
        "outputId": "71ab4d13-d5e5-44ab-8d15-339eb30c5f04"
      },
      "source": [
        " df = pd.DataFrame(data={'val0':['a', 'b', 'c', 'd'], 'val1': [10, 9, 10, 20], 'val2': [110, 90, 80, 150]},\n",
        "                   columns = ['val0', 'val1', 'val2'],\n",
        "                   index = ['x1', 'x2', 'x3', 'x4'])\n",
        " df"
      ],
      "execution_count": 3,
      "outputs": [
        {
          "output_type": "execute_result",
          "data": {
            "text/html": [
              "<div>\n",
              "<style scoped>\n",
              "    .dataframe tbody tr th:only-of-type {\n",
              "        vertical-align: middle;\n",
              "    }\n",
              "\n",
              "    .dataframe tbody tr th {\n",
              "        vertical-align: top;\n",
              "    }\n",
              "\n",
              "    .dataframe thead th {\n",
              "        text-align: right;\n",
              "    }\n",
              "</style>\n",
              "<table border=\"1\" class=\"dataframe\">\n",
              "  <thead>\n",
              "    <tr style=\"text-align: right;\">\n",
              "      <th></th>\n",
              "      <th>val0</th>\n",
              "      <th>val1</th>\n",
              "      <th>val2</th>\n",
              "    </tr>\n",
              "  </thead>\n",
              "  <tbody>\n",
              "    <tr>\n",
              "      <th>x1</th>\n",
              "      <td>a</td>\n",
              "      <td>10</td>\n",
              "      <td>110</td>\n",
              "    </tr>\n",
              "    <tr>\n",
              "      <th>x2</th>\n",
              "      <td>b</td>\n",
              "      <td>9</td>\n",
              "      <td>90</td>\n",
              "    </tr>\n",
              "    <tr>\n",
              "      <th>x3</th>\n",
              "      <td>c</td>\n",
              "      <td>10</td>\n",
              "      <td>80</td>\n",
              "    </tr>\n",
              "    <tr>\n",
              "      <th>x4</th>\n",
              "      <td>d</td>\n",
              "      <td>20</td>\n",
              "      <td>150</td>\n",
              "    </tr>\n",
              "  </tbody>\n",
              "</table>\n",
              "</div>"
            ],
            "text/plain": [
              "   val0  val1  val2\n",
              "x1    a    10   110\n",
              "x2    b     9    90\n",
              "x3    c    10    80\n",
              "x4    d    20   150"
            ]
          },
          "metadata": {
            "tags": []
          },
          "execution_count": 3
        }
      ]
    },
    {
      "cell_type": "code",
      "metadata": {
        "colab": {
          "base_uri": "https://localhost:8080/"
        },
        "id": "du3VhoE2BmEN",
        "outputId": "18c25fd8-8286-4dbc-8c87-3d334c7a5b2f"
      },
      "source": [
        "df.values"
      ],
      "execution_count": 4,
      "outputs": [
        {
          "output_type": "execute_result",
          "data": {
            "text/plain": [
              "array([['a', 10, 110],\n",
              "       ['b', 9, 90],\n",
              "       ['c', 10, 80],\n",
              "       ['d', 20, 150]], dtype=object)"
            ]
          },
          "metadata": {
            "tags": []
          },
          "execution_count": 4
        }
      ]
    },
    {
      "cell_type": "code",
      "metadata": {
        "colab": {
          "base_uri": "https://localhost:8080/"
        },
        "id": "kqQRKiHTButU",
        "outputId": "0fdb470b-5c90-4317-dc27-71d34bb90858"
      },
      "source": [
        "df.index"
      ],
      "execution_count": 5,
      "outputs": [
        {
          "output_type": "execute_result",
          "data": {
            "text/plain": [
              "Index(['x1', 'x2', 'x3', 'x4'], dtype='object')"
            ]
          },
          "metadata": {
            "tags": []
          },
          "execution_count": 5
        }
      ]
    },
    {
      "cell_type": "code",
      "metadata": {
        "colab": {
          "base_uri": "https://localhost:8080/"
        },
        "id": "nyaWMlvxBwM8",
        "outputId": "105df2ca-9631-4db3-e1eb-f56a2ac4baf4"
      },
      "source": [
        "df.info()"
      ],
      "execution_count": 6,
      "outputs": [
        {
          "output_type": "stream",
          "text": [
            "<class 'pandas.core.frame.DataFrame'>\n",
            "Index: 4 entries, x1 to x4\n",
            "Data columns (total 3 columns):\n",
            " #   Column  Non-Null Count  Dtype \n",
            "---  ------  --------------  ----- \n",
            " 0   val0    4 non-null      object\n",
            " 1   val1    4 non-null      int64 \n",
            " 2   val2    4 non-null      int64 \n",
            "dtypes: int64(2), object(1)\n",
            "memory usage: 128.0+ bytes\n"
          ],
          "name": "stdout"
        }
      ]
    },
    {
      "cell_type": "code",
      "metadata": {
        "colab": {
          "base_uri": "https://localhost:8080/"
        },
        "id": "rzxKVRMsByyN",
        "outputId": "3372b9e5-7134-4bfb-e584-3a3cc24b6c96"
      },
      "source": [
        "df['val1']"
      ],
      "execution_count": 7,
      "outputs": [
        {
          "output_type": "execute_result",
          "data": {
            "text/plain": [
              "x1    10\n",
              "x2     9\n",
              "x3    10\n",
              "x4    20\n",
              "Name: val1, dtype: int64"
            ]
          },
          "metadata": {
            "tags": []
          },
          "execution_count": 7
        }
      ]
    },
    {
      "cell_type": "code",
      "metadata": {
        "colab": {
          "base_uri": "https://localhost:8080/"
        },
        "id": "MLV5wYfhCh3U",
        "outputId": "f6012ceb-4d0a-454b-db10-93a383bdaa50"
      },
      "source": [
        "df.val1"
      ],
      "execution_count": 8,
      "outputs": [
        {
          "output_type": "execute_result",
          "data": {
            "text/plain": [
              "x1    10\n",
              "x2     9\n",
              "x3    10\n",
              "x4    20\n",
              "Name: val1, dtype: int64"
            ]
          },
          "metadata": {
            "tags": []
          },
          "execution_count": 8
        }
      ]
    },
    {
      "cell_type": "markdown",
      "metadata": {
        "id": "6PeTcu4MCx5e"
      },
      "source": [
        "컬럼명 마지막에 '.'이 있거나, 컬럼명 안에 공백이 있는 경우 데이터명.컬럼명은 사용불가"
      ]
    },
    {
      "cell_type": "markdown",
      "metadata": {
        "id": "ULT-JzGXE1Nl"
      },
      "source": [
        "# 컬럼 추가"
      ]
    },
    {
      "cell_type": "markdown",
      "metadata": {
        "id": "q2_1mthzE4oO"
      },
      "source": [
        "전체 단일값으로 추가"
      ]
    },
    {
      "cell_type": "code",
      "metadata": {
        "colab": {
          "base_uri": "https://localhost:8080/",
          "height": 173
        },
        "id": "PgjOSl-SCjps",
        "outputId": "aea8178d-0057-4b39-f7a8-27f54fcd9851"
      },
      "source": [
        "df['val3'] = 1\n",
        "df"
      ],
      "execution_count": 9,
      "outputs": [
        {
          "output_type": "execute_result",
          "data": {
            "text/html": [
              "<div>\n",
              "<style scoped>\n",
              "    .dataframe tbody tr th:only-of-type {\n",
              "        vertical-align: middle;\n",
              "    }\n",
              "\n",
              "    .dataframe tbody tr th {\n",
              "        vertical-align: top;\n",
              "    }\n",
              "\n",
              "    .dataframe thead th {\n",
              "        text-align: right;\n",
              "    }\n",
              "</style>\n",
              "<table border=\"1\" class=\"dataframe\">\n",
              "  <thead>\n",
              "    <tr style=\"text-align: right;\">\n",
              "      <th></th>\n",
              "      <th>val0</th>\n",
              "      <th>val1</th>\n",
              "      <th>val2</th>\n",
              "      <th>val3</th>\n",
              "    </tr>\n",
              "  </thead>\n",
              "  <tbody>\n",
              "    <tr>\n",
              "      <th>x1</th>\n",
              "      <td>a</td>\n",
              "      <td>10</td>\n",
              "      <td>110</td>\n",
              "      <td>1</td>\n",
              "    </tr>\n",
              "    <tr>\n",
              "      <th>x2</th>\n",
              "      <td>b</td>\n",
              "      <td>9</td>\n",
              "      <td>90</td>\n",
              "      <td>1</td>\n",
              "    </tr>\n",
              "    <tr>\n",
              "      <th>x3</th>\n",
              "      <td>c</td>\n",
              "      <td>10</td>\n",
              "      <td>80</td>\n",
              "      <td>1</td>\n",
              "    </tr>\n",
              "    <tr>\n",
              "      <th>x4</th>\n",
              "      <td>d</td>\n",
              "      <td>20</td>\n",
              "      <td>150</td>\n",
              "      <td>1</td>\n",
              "    </tr>\n",
              "  </tbody>\n",
              "</table>\n",
              "</div>"
            ],
            "text/plain": [
              "   val0  val1  val2  val3\n",
              "x1    a    10   110     1\n",
              "x2    b     9    90     1\n",
              "x3    c    10    80     1\n",
              "x4    d    20   150     1"
            ]
          },
          "metadata": {
            "tags": []
          },
          "execution_count": 9
        }
      ]
    },
    {
      "cell_type": "markdown",
      "metadata": {
        "id": "A1glSj-AGMvH"
      },
      "source": [
        "각각 다른 값으로 추가"
      ]
    },
    {
      "cell_type": "code",
      "metadata": {
        "id": "RDu5oSXUE_ud"
      },
      "source": [
        "df['val4'] = 1, 2, 3, 4"
      ],
      "execution_count": 10,
      "outputs": []
    },
    {
      "cell_type": "code",
      "metadata": {
        "colab": {
          "base_uri": "https://localhost:8080/",
          "height": 173
        },
        "id": "yHSWJJwaFEfs",
        "outputId": "cbbdc090-7804-46d9-9df8-fb31c608ab20"
      },
      "source": [
        "df"
      ],
      "execution_count": 11,
      "outputs": [
        {
          "output_type": "execute_result",
          "data": {
            "text/html": [
              "<div>\n",
              "<style scoped>\n",
              "    .dataframe tbody tr th:only-of-type {\n",
              "        vertical-align: middle;\n",
              "    }\n",
              "\n",
              "    .dataframe tbody tr th {\n",
              "        vertical-align: top;\n",
              "    }\n",
              "\n",
              "    .dataframe thead th {\n",
              "        text-align: right;\n",
              "    }\n",
              "</style>\n",
              "<table border=\"1\" class=\"dataframe\">\n",
              "  <thead>\n",
              "    <tr style=\"text-align: right;\">\n",
              "      <th></th>\n",
              "      <th>val0</th>\n",
              "      <th>val1</th>\n",
              "      <th>val2</th>\n",
              "      <th>val3</th>\n",
              "      <th>val4</th>\n",
              "    </tr>\n",
              "  </thead>\n",
              "  <tbody>\n",
              "    <tr>\n",
              "      <th>x1</th>\n",
              "      <td>a</td>\n",
              "      <td>10</td>\n",
              "      <td>110</td>\n",
              "      <td>1</td>\n",
              "      <td>1</td>\n",
              "    </tr>\n",
              "    <tr>\n",
              "      <th>x2</th>\n",
              "      <td>b</td>\n",
              "      <td>9</td>\n",
              "      <td>90</td>\n",
              "      <td>1</td>\n",
              "      <td>2</td>\n",
              "    </tr>\n",
              "    <tr>\n",
              "      <th>x3</th>\n",
              "      <td>c</td>\n",
              "      <td>10</td>\n",
              "      <td>80</td>\n",
              "      <td>1</td>\n",
              "      <td>3</td>\n",
              "    </tr>\n",
              "    <tr>\n",
              "      <th>x4</th>\n",
              "      <td>d</td>\n",
              "      <td>20</td>\n",
              "      <td>150</td>\n",
              "      <td>1</td>\n",
              "      <td>4</td>\n",
              "    </tr>\n",
              "  </tbody>\n",
              "</table>\n",
              "</div>"
            ],
            "text/plain": [
              "   val0  val1  val2  val3  val4\n",
              "x1    a    10   110     1     1\n",
              "x2    b     9    90     1     2\n",
              "x3    c    10    80     1     3\n",
              "x4    d    20   150     1     4"
            ]
          },
          "metadata": {
            "tags": []
          },
          "execution_count": 11
        }
      ]
    },
    {
      "cell_type": "code",
      "metadata": {
        "colab": {
          "base_uri": "https://localhost:8080/",
          "height": 173
        },
        "id": "S3rQf7GoFE9k",
        "outputId": "1e77cee5-aa84-424b-e657-22260481946d"
      },
      "source": [
        "df['val5'] = 'a', 'b', 'c', 'd'\n",
        "df"
      ],
      "execution_count": 12,
      "outputs": [
        {
          "output_type": "execute_result",
          "data": {
            "text/html": [
              "<div>\n",
              "<style scoped>\n",
              "    .dataframe tbody tr th:only-of-type {\n",
              "        vertical-align: middle;\n",
              "    }\n",
              "\n",
              "    .dataframe tbody tr th {\n",
              "        vertical-align: top;\n",
              "    }\n",
              "\n",
              "    .dataframe thead th {\n",
              "        text-align: right;\n",
              "    }\n",
              "</style>\n",
              "<table border=\"1\" class=\"dataframe\">\n",
              "  <thead>\n",
              "    <tr style=\"text-align: right;\">\n",
              "      <th></th>\n",
              "      <th>val0</th>\n",
              "      <th>val1</th>\n",
              "      <th>val2</th>\n",
              "      <th>val3</th>\n",
              "      <th>val4</th>\n",
              "      <th>val5</th>\n",
              "    </tr>\n",
              "  </thead>\n",
              "  <tbody>\n",
              "    <tr>\n",
              "      <th>x1</th>\n",
              "      <td>a</td>\n",
              "      <td>10</td>\n",
              "      <td>110</td>\n",
              "      <td>1</td>\n",
              "      <td>1</td>\n",
              "      <td>a</td>\n",
              "    </tr>\n",
              "    <tr>\n",
              "      <th>x2</th>\n",
              "      <td>b</td>\n",
              "      <td>9</td>\n",
              "      <td>90</td>\n",
              "      <td>1</td>\n",
              "      <td>2</td>\n",
              "      <td>b</td>\n",
              "    </tr>\n",
              "    <tr>\n",
              "      <th>x3</th>\n",
              "      <td>c</td>\n",
              "      <td>10</td>\n",
              "      <td>80</td>\n",
              "      <td>1</td>\n",
              "      <td>3</td>\n",
              "      <td>c</td>\n",
              "    </tr>\n",
              "    <tr>\n",
              "      <th>x4</th>\n",
              "      <td>d</td>\n",
              "      <td>20</td>\n",
              "      <td>150</td>\n",
              "      <td>1</td>\n",
              "      <td>4</td>\n",
              "      <td>d</td>\n",
              "    </tr>\n",
              "  </tbody>\n",
              "</table>\n",
              "</div>"
            ],
            "text/plain": [
              "   val0  val1  val2  val3  val4 val5\n",
              "x1    a    10   110     1     1    a\n",
              "x2    b     9    90     1     2    b\n",
              "x3    c    10    80     1     3    c\n",
              "x4    d    20   150     1     4    d"
            ]
          },
          "metadata": {
            "tags": []
          },
          "execution_count": 12
        }
      ]
    },
    {
      "cell_type": "markdown",
      "metadata": {
        "id": "z2cIJo71FZAd"
      },
      "source": [
        "규모가 큰 데이터를 추가 -> range 함수 사용"
      ]
    },
    {
      "cell_type": "code",
      "metadata": {
        "colab": {
          "base_uri": "https://localhost:8080/"
        },
        "id": "AEVYDPcmFLjs",
        "outputId": "57d4f336-9ce9-4aa4-d2aa-69263f2b11e5"
      },
      "source": [
        "list(range(1, 10, 2))"
      ],
      "execution_count": 13,
      "outputs": [
        {
          "output_type": "execute_result",
          "data": {
            "text/plain": [
              "[1, 3, 5, 7, 9]"
            ]
          },
          "metadata": {
            "tags": []
          },
          "execution_count": 13
        }
      ]
    },
    {
      "cell_type": "code",
      "metadata": {
        "colab": {
          "base_uri": "https://localhost:8080/"
        },
        "id": "39tPlyN1Fsqk",
        "outputId": "c162c912-4963-42c6-916a-6e14641285c5"
      },
      "source": [
        "list(range(10, 1, -2))"
      ],
      "execution_count": 14,
      "outputs": [
        {
          "output_type": "execute_result",
          "data": {
            "text/plain": [
              "[10, 8, 6, 4, 2]"
            ]
          },
          "metadata": {
            "tags": []
          },
          "execution_count": 14
        }
      ]
    },
    {
      "cell_type": "code",
      "metadata": {
        "colab": {
          "base_uri": "https://localhost:8080/",
          "height": 173
        },
        "id": "wHRKk4yUFun8",
        "outputId": "006e84dd-7e2f-41fd-fdbb-6b608afcacd3"
      },
      "source": [
        "df['val6'] = list(range(1, 5))\n",
        "df"
      ],
      "execution_count": 16,
      "outputs": [
        {
          "output_type": "execute_result",
          "data": {
            "text/html": [
              "<div>\n",
              "<style scoped>\n",
              "    .dataframe tbody tr th:only-of-type {\n",
              "        vertical-align: middle;\n",
              "    }\n",
              "\n",
              "    .dataframe tbody tr th {\n",
              "        vertical-align: top;\n",
              "    }\n",
              "\n",
              "    .dataframe thead th {\n",
              "        text-align: right;\n",
              "    }\n",
              "</style>\n",
              "<table border=\"1\" class=\"dataframe\">\n",
              "  <thead>\n",
              "    <tr style=\"text-align: right;\">\n",
              "      <th></th>\n",
              "      <th>val0</th>\n",
              "      <th>val1</th>\n",
              "      <th>val2</th>\n",
              "      <th>val3</th>\n",
              "      <th>val4</th>\n",
              "      <th>val5</th>\n",
              "      <th>val6</th>\n",
              "    </tr>\n",
              "  </thead>\n",
              "  <tbody>\n",
              "    <tr>\n",
              "      <th>x1</th>\n",
              "      <td>a</td>\n",
              "      <td>10</td>\n",
              "      <td>110</td>\n",
              "      <td>1</td>\n",
              "      <td>1</td>\n",
              "      <td>a</td>\n",
              "      <td>1</td>\n",
              "    </tr>\n",
              "    <tr>\n",
              "      <th>x2</th>\n",
              "      <td>b</td>\n",
              "      <td>9</td>\n",
              "      <td>90</td>\n",
              "      <td>1</td>\n",
              "      <td>2</td>\n",
              "      <td>b</td>\n",
              "      <td>2</td>\n",
              "    </tr>\n",
              "    <tr>\n",
              "      <th>x3</th>\n",
              "      <td>c</td>\n",
              "      <td>10</td>\n",
              "      <td>80</td>\n",
              "      <td>1</td>\n",
              "      <td>3</td>\n",
              "      <td>c</td>\n",
              "      <td>3</td>\n",
              "    </tr>\n",
              "    <tr>\n",
              "      <th>x4</th>\n",
              "      <td>d</td>\n",
              "      <td>20</td>\n",
              "      <td>150</td>\n",
              "      <td>1</td>\n",
              "      <td>4</td>\n",
              "      <td>d</td>\n",
              "      <td>4</td>\n",
              "    </tr>\n",
              "  </tbody>\n",
              "</table>\n",
              "</div>"
            ],
            "text/plain": [
              "   val0  val1  val2  val3  val4 val5  val6\n",
              "x1    a    10   110     1     1    a     1\n",
              "x2    b     9    90     1     2    b     2\n",
              "x3    c    10    80     1     3    c     3\n",
              "x4    d    20   150     1     4    d     4"
            ]
          },
          "metadata": {
            "tags": []
          },
          "execution_count": 16
        }
      ]
    },
    {
      "cell_type": "markdown",
      "metadata": {
        "id": "_vp4Zp2DGPXF"
      },
      "source": [
        "연산으로 칼럽 추가"
      ]
    },
    {
      "cell_type": "code",
      "metadata": {
        "id": "LNkllOPDFzv0"
      },
      "source": [
        "df['합계'] = df['val1'] + df['val2']"
      ],
      "execution_count": 17,
      "outputs": []
    },
    {
      "cell_type": "code",
      "metadata": {
        "colab": {
          "base_uri": "https://localhost:8080/",
          "height": 173
        },
        "id": "lrHdfx42GXVt",
        "outputId": "87f69898-4d1d-4d9a-f431-b56852896600"
      },
      "source": [
        "df"
      ],
      "execution_count": 18,
      "outputs": [
        {
          "output_type": "execute_result",
          "data": {
            "text/html": [
              "<div>\n",
              "<style scoped>\n",
              "    .dataframe tbody tr th:only-of-type {\n",
              "        vertical-align: middle;\n",
              "    }\n",
              "\n",
              "    .dataframe tbody tr th {\n",
              "        vertical-align: top;\n",
              "    }\n",
              "\n",
              "    .dataframe thead th {\n",
              "        text-align: right;\n",
              "    }\n",
              "</style>\n",
              "<table border=\"1\" class=\"dataframe\">\n",
              "  <thead>\n",
              "    <tr style=\"text-align: right;\">\n",
              "      <th></th>\n",
              "      <th>val0</th>\n",
              "      <th>val1</th>\n",
              "      <th>val2</th>\n",
              "      <th>val3</th>\n",
              "      <th>val4</th>\n",
              "      <th>val5</th>\n",
              "      <th>val6</th>\n",
              "      <th>합계</th>\n",
              "    </tr>\n",
              "  </thead>\n",
              "  <tbody>\n",
              "    <tr>\n",
              "      <th>x1</th>\n",
              "      <td>a</td>\n",
              "      <td>10</td>\n",
              "      <td>110</td>\n",
              "      <td>1</td>\n",
              "      <td>1</td>\n",
              "      <td>a</td>\n",
              "      <td>1</td>\n",
              "      <td>120</td>\n",
              "    </tr>\n",
              "    <tr>\n",
              "      <th>x2</th>\n",
              "      <td>b</td>\n",
              "      <td>9</td>\n",
              "      <td>90</td>\n",
              "      <td>1</td>\n",
              "      <td>2</td>\n",
              "      <td>b</td>\n",
              "      <td>2</td>\n",
              "      <td>99</td>\n",
              "    </tr>\n",
              "    <tr>\n",
              "      <th>x3</th>\n",
              "      <td>c</td>\n",
              "      <td>10</td>\n",
              "      <td>80</td>\n",
              "      <td>1</td>\n",
              "      <td>3</td>\n",
              "      <td>c</td>\n",
              "      <td>3</td>\n",
              "      <td>90</td>\n",
              "    </tr>\n",
              "    <tr>\n",
              "      <th>x4</th>\n",
              "      <td>d</td>\n",
              "      <td>20</td>\n",
              "      <td>150</td>\n",
              "      <td>1</td>\n",
              "      <td>4</td>\n",
              "      <td>d</td>\n",
              "      <td>4</td>\n",
              "      <td>170</td>\n",
              "    </tr>\n",
              "  </tbody>\n",
              "</table>\n",
              "</div>"
            ],
            "text/plain": [
              "   val0  val1  val2  val3  val4 val5  val6   합계\n",
              "x1    a    10   110     1     1    a     1  120\n",
              "x2    b     9    90     1     2    b     2   99\n",
              "x3    c    10    80     1     3    c     3   90\n",
              "x4    d    20   150     1     4    d     4  170"
            ]
          },
          "metadata": {
            "tags": []
          },
          "execution_count": 18
        }
      ]
    },
    {
      "cell_type": "code",
      "metadata": {
        "id": "gcjr4icaGX20"
      },
      "source": [
        "df['평균'] = df['합계']/2"
      ],
      "execution_count": 19,
      "outputs": []
    },
    {
      "cell_type": "code",
      "metadata": {
        "colab": {
          "base_uri": "https://localhost:8080/",
          "height": 173
        },
        "id": "vPu30PDVGd7U",
        "outputId": "cc7d88cf-5fc0-4c52-fa37-9bdcb91f1931"
      },
      "source": [
        "df"
      ],
      "execution_count": 20,
      "outputs": [
        {
          "output_type": "execute_result",
          "data": {
            "text/html": [
              "<div>\n",
              "<style scoped>\n",
              "    .dataframe tbody tr th:only-of-type {\n",
              "        vertical-align: middle;\n",
              "    }\n",
              "\n",
              "    .dataframe tbody tr th {\n",
              "        vertical-align: top;\n",
              "    }\n",
              "\n",
              "    .dataframe thead th {\n",
              "        text-align: right;\n",
              "    }\n",
              "</style>\n",
              "<table border=\"1\" class=\"dataframe\">\n",
              "  <thead>\n",
              "    <tr style=\"text-align: right;\">\n",
              "      <th></th>\n",
              "      <th>val0</th>\n",
              "      <th>val1</th>\n",
              "      <th>val2</th>\n",
              "      <th>val3</th>\n",
              "      <th>val4</th>\n",
              "      <th>val5</th>\n",
              "      <th>val6</th>\n",
              "      <th>합계</th>\n",
              "      <th>평균</th>\n",
              "    </tr>\n",
              "  </thead>\n",
              "  <tbody>\n",
              "    <tr>\n",
              "      <th>x1</th>\n",
              "      <td>a</td>\n",
              "      <td>10</td>\n",
              "      <td>110</td>\n",
              "      <td>1</td>\n",
              "      <td>1</td>\n",
              "      <td>a</td>\n",
              "      <td>1</td>\n",
              "      <td>120</td>\n",
              "      <td>60.0</td>\n",
              "    </tr>\n",
              "    <tr>\n",
              "      <th>x2</th>\n",
              "      <td>b</td>\n",
              "      <td>9</td>\n",
              "      <td>90</td>\n",
              "      <td>1</td>\n",
              "      <td>2</td>\n",
              "      <td>b</td>\n",
              "      <td>2</td>\n",
              "      <td>99</td>\n",
              "      <td>49.5</td>\n",
              "    </tr>\n",
              "    <tr>\n",
              "      <th>x3</th>\n",
              "      <td>c</td>\n",
              "      <td>10</td>\n",
              "      <td>80</td>\n",
              "      <td>1</td>\n",
              "      <td>3</td>\n",
              "      <td>c</td>\n",
              "      <td>3</td>\n",
              "      <td>90</td>\n",
              "      <td>45.0</td>\n",
              "    </tr>\n",
              "    <tr>\n",
              "      <th>x4</th>\n",
              "      <td>d</td>\n",
              "      <td>20</td>\n",
              "      <td>150</td>\n",
              "      <td>1</td>\n",
              "      <td>4</td>\n",
              "      <td>d</td>\n",
              "      <td>4</td>\n",
              "      <td>170</td>\n",
              "      <td>85.0</td>\n",
              "    </tr>\n",
              "  </tbody>\n",
              "</table>\n",
              "</div>"
            ],
            "text/plain": [
              "   val0  val1  val2  val3  val4 val5  val6   합계    평균\n",
              "x1    a    10   110     1     1    a     1  120  60.0\n",
              "x2    b     9    90     1     2    b     2   99  49.5\n",
              "x3    c    10    80     1     3    c     3   90  45.0\n",
              "x4    d    20   150     1     4    d     4  170  85.0"
            ]
          },
          "metadata": {
            "tags": []
          },
          "execution_count": 20
        }
      ]
    },
    {
      "cell_type": "markdown",
      "metadata": {
        "id": "8Vf3PAD6G2jd"
      },
      "source": [
        "Result1이라는 컬럼을 생성\n",
        "- val2 컬럼의 데이터 중 100보다 크면 True, 아니면 False"
      ]
    },
    {
      "cell_type": "code",
      "metadata": {
        "colab": {
          "base_uri": "https://localhost:8080/"
        },
        "id": "J7_zQ3uWGeo8",
        "outputId": "c190b3d5-8b99-41db-eebd-4e6de0a93ef0"
      },
      "source": [
        "df['val2'] > 100"
      ],
      "execution_count": 21,
      "outputs": [
        {
          "output_type": "execute_result",
          "data": {
            "text/plain": [
              "x1     True\n",
              "x2    False\n",
              "x3    False\n",
              "x4     True\n",
              "Name: val2, dtype: bool"
            ]
          },
          "metadata": {
            "tags": []
          },
          "execution_count": 21
        }
      ]
    },
    {
      "cell_type": "code",
      "metadata": {
        "colab": {
          "base_uri": "https://localhost:8080/",
          "height": 173
        },
        "id": "cwL4rt0dHCOc",
        "outputId": "bbe2af67-edcb-48fe-af6b-0a3d89bb36b5"
      },
      "source": [
        "df.result = df['val2'] > 100  # 이 경우는 존재하는 컬럼만 가능함\n",
        "df"
      ],
      "execution_count": 26,
      "outputs": [
        {
          "output_type": "execute_result",
          "data": {
            "text/html": [
              "<div>\n",
              "<style scoped>\n",
              "    .dataframe tbody tr th:only-of-type {\n",
              "        vertical-align: middle;\n",
              "    }\n",
              "\n",
              "    .dataframe tbody tr th {\n",
              "        vertical-align: top;\n",
              "    }\n",
              "\n",
              "    .dataframe thead th {\n",
              "        text-align: right;\n",
              "    }\n",
              "</style>\n",
              "<table border=\"1\" class=\"dataframe\">\n",
              "  <thead>\n",
              "    <tr style=\"text-align: right;\">\n",
              "      <th></th>\n",
              "      <th>val0</th>\n",
              "      <th>val1</th>\n",
              "      <th>val2</th>\n",
              "      <th>val3</th>\n",
              "      <th>val4</th>\n",
              "      <th>val5</th>\n",
              "      <th>val6</th>\n",
              "      <th>합계</th>\n",
              "      <th>평균</th>\n",
              "    </tr>\n",
              "  </thead>\n",
              "  <tbody>\n",
              "    <tr>\n",
              "      <th>x1</th>\n",
              "      <td>a</td>\n",
              "      <td>10</td>\n",
              "      <td>110</td>\n",
              "      <td>1</td>\n",
              "      <td>1</td>\n",
              "      <td>a</td>\n",
              "      <td>1</td>\n",
              "      <td>120</td>\n",
              "      <td>60.0</td>\n",
              "    </tr>\n",
              "    <tr>\n",
              "      <th>x2</th>\n",
              "      <td>b</td>\n",
              "      <td>9</td>\n",
              "      <td>90</td>\n",
              "      <td>1</td>\n",
              "      <td>2</td>\n",
              "      <td>b</td>\n",
              "      <td>2</td>\n",
              "      <td>99</td>\n",
              "      <td>49.5</td>\n",
              "    </tr>\n",
              "    <tr>\n",
              "      <th>x3</th>\n",
              "      <td>c</td>\n",
              "      <td>10</td>\n",
              "      <td>80</td>\n",
              "      <td>1</td>\n",
              "      <td>3</td>\n",
              "      <td>c</td>\n",
              "      <td>3</td>\n",
              "      <td>90</td>\n",
              "      <td>45.0</td>\n",
              "    </tr>\n",
              "    <tr>\n",
              "      <th>x4</th>\n",
              "      <td>d</td>\n",
              "      <td>20</td>\n",
              "      <td>150</td>\n",
              "      <td>1</td>\n",
              "      <td>4</td>\n",
              "      <td>d</td>\n",
              "      <td>4</td>\n",
              "      <td>170</td>\n",
              "      <td>85.0</td>\n",
              "    </tr>\n",
              "  </tbody>\n",
              "</table>\n",
              "</div>"
            ],
            "text/plain": [
              "   val0  val1  val2  val3  val4 val5  val6   합계    평균\n",
              "x1    a    10   110     1     1    a     1  120  60.0\n",
              "x2    b     9    90     1     2    b     2   99  49.5\n",
              "x3    c    10    80     1     3    c     3   90  45.0\n",
              "x4    d    20   150     1     4    d     4  170  85.0"
            ]
          },
          "metadata": {
            "tags": []
          },
          "execution_count": 26
        }
      ]
    },
    {
      "cell_type": "code",
      "metadata": {
        "colab": {
          "base_uri": "https://localhost:8080/",
          "height": 173
        },
        "id": "yG7WuD35Hoju",
        "outputId": "fccb4dd9-6da2-444b-815b-da723a976a77"
      },
      "source": [
        "df.val4 = df['val2'] > 100\n",
        "df"
      ],
      "execution_count": 29,
      "outputs": [
        {
          "output_type": "execute_result",
          "data": {
            "text/html": [
              "<div>\n",
              "<style scoped>\n",
              "    .dataframe tbody tr th:only-of-type {\n",
              "        vertical-align: middle;\n",
              "    }\n",
              "\n",
              "    .dataframe tbody tr th {\n",
              "        vertical-align: top;\n",
              "    }\n",
              "\n",
              "    .dataframe thead th {\n",
              "        text-align: right;\n",
              "    }\n",
              "</style>\n",
              "<table border=\"1\" class=\"dataframe\">\n",
              "  <thead>\n",
              "    <tr style=\"text-align: right;\">\n",
              "      <th></th>\n",
              "      <th>val0</th>\n",
              "      <th>val1</th>\n",
              "      <th>val2</th>\n",
              "      <th>val3</th>\n",
              "      <th>val4</th>\n",
              "      <th>val5</th>\n",
              "      <th>val6</th>\n",
              "      <th>합계</th>\n",
              "      <th>평균</th>\n",
              "    </tr>\n",
              "  </thead>\n",
              "  <tbody>\n",
              "    <tr>\n",
              "      <th>x1</th>\n",
              "      <td>a</td>\n",
              "      <td>10</td>\n",
              "      <td>110</td>\n",
              "      <td>True</td>\n",
              "      <td>True</td>\n",
              "      <td>a</td>\n",
              "      <td>1</td>\n",
              "      <td>120</td>\n",
              "      <td>60.0</td>\n",
              "    </tr>\n",
              "    <tr>\n",
              "      <th>x2</th>\n",
              "      <td>b</td>\n",
              "      <td>9</td>\n",
              "      <td>90</td>\n",
              "      <td>False</td>\n",
              "      <td>False</td>\n",
              "      <td>b</td>\n",
              "      <td>2</td>\n",
              "      <td>99</td>\n",
              "      <td>49.5</td>\n",
              "    </tr>\n",
              "    <tr>\n",
              "      <th>x3</th>\n",
              "      <td>c</td>\n",
              "      <td>10</td>\n",
              "      <td>80</td>\n",
              "      <td>False</td>\n",
              "      <td>False</td>\n",
              "      <td>c</td>\n",
              "      <td>3</td>\n",
              "      <td>90</td>\n",
              "      <td>45.0</td>\n",
              "    </tr>\n",
              "    <tr>\n",
              "      <th>x4</th>\n",
              "      <td>d</td>\n",
              "      <td>20</td>\n",
              "      <td>150</td>\n",
              "      <td>True</td>\n",
              "      <td>True</td>\n",
              "      <td>d</td>\n",
              "      <td>4</td>\n",
              "      <td>170</td>\n",
              "      <td>85.0</td>\n",
              "    </tr>\n",
              "  </tbody>\n",
              "</table>\n",
              "</div>"
            ],
            "text/plain": [
              "   val0  val1  val2   val3   val4 val5  val6   합계    평균\n",
              "x1    a    10   110   True   True    a     1  120  60.0\n",
              "x2    b     9    90  False  False    b     2   99  49.5\n",
              "x3    c    10    80  False  False    c     3   90  45.0\n",
              "x4    d    20   150   True   True    d     4  170  85.0"
            ]
          },
          "metadata": {
            "tags": []
          },
          "execution_count": 29
        }
      ]
    },
    {
      "cell_type": "markdown",
      "metadata": {
        "id": "QAsJumDmHSvu"
      },
      "source": [
        "# 컬럼 삭제"
      ]
    },
    {
      "cell_type": "code",
      "metadata": {
        "colab": {
          "base_uri": "https://localhost:8080/",
          "height": 172
        },
        "id": "UxteUJhaHbXi",
        "outputId": "4c47dc51-1030-4f85-b697-5ee7704e5b44"
      },
      "source": [
        "del df.val3 # 점 기호는 존재하는 것을 선택할 때만 가능하다"
      ],
      "execution_count": 32,
      "outputs": [
        {
          "output_type": "error",
          "ename": "AttributeError",
          "evalue": "ignored",
          "traceback": [
            "\u001b[0;31m---------------------------------------------------------------------------\u001b[0m",
            "\u001b[0;31mAttributeError\u001b[0m                            Traceback (most recent call last)",
            "\u001b[0;32m<ipython-input-32-e2515d9701f5>\u001b[0m in \u001b[0;36m<module>\u001b[0;34m()\u001b[0m\n\u001b[0;32m----> 1\u001b[0;31m \u001b[0;32mdel\u001b[0m \u001b[0mdf\u001b[0m\u001b[0;34m.\u001b[0m\u001b[0mval3\u001b[0m \u001b[0;31m# 점 기호는 존재하는 것을 선택할 때만 가능하다\u001b[0m\u001b[0;34m\u001b[0m\u001b[0;34m\u001b[0m\u001b[0m\n\u001b[0m",
            "\u001b[0;31mAttributeError\u001b[0m: val3"
          ]
        }
      ]
    },
    {
      "cell_type": "code",
      "metadata": {
        "colab": {
          "base_uri": "https://localhost:8080/",
          "height": 592
        },
        "id": "caZzd7rwIILE",
        "outputId": "34423661-c35f-4bfe-e0d2-35d640e14aa8"
      },
      "source": [
        "del df['val3']\n",
        "df"
      ],
      "execution_count": 33,
      "outputs": [
        {
          "output_type": "error",
          "ename": "KeyError",
          "evalue": "ignored",
          "traceback": [
            "\u001b[0;31m---------------------------------------------------------------------------\u001b[0m",
            "\u001b[0;31mKeyError\u001b[0m                                  Traceback (most recent call last)",
            "\u001b[0;32m/usr/local/lib/python3.7/dist-packages/pandas/core/indexes/base.py\u001b[0m in \u001b[0;36mget_loc\u001b[0;34m(self, key, method, tolerance)\u001b[0m\n\u001b[1;32m   2897\u001b[0m             \u001b[0;32mtry\u001b[0m\u001b[0;34m:\u001b[0m\u001b[0;34m\u001b[0m\u001b[0;34m\u001b[0m\u001b[0m\n\u001b[0;32m-> 2898\u001b[0;31m                 \u001b[0;32mreturn\u001b[0m \u001b[0mself\u001b[0m\u001b[0;34m.\u001b[0m\u001b[0m_engine\u001b[0m\u001b[0;34m.\u001b[0m\u001b[0mget_loc\u001b[0m\u001b[0;34m(\u001b[0m\u001b[0mcasted_key\u001b[0m\u001b[0;34m)\u001b[0m\u001b[0;34m\u001b[0m\u001b[0;34m\u001b[0m\u001b[0m\n\u001b[0m\u001b[1;32m   2899\u001b[0m             \u001b[0;32mexcept\u001b[0m \u001b[0mKeyError\u001b[0m \u001b[0;32mas\u001b[0m \u001b[0merr\u001b[0m\u001b[0;34m:\u001b[0m\u001b[0;34m\u001b[0m\u001b[0;34m\u001b[0m\u001b[0m\n",
            "\u001b[0;32mpandas/_libs/index.pyx\u001b[0m in \u001b[0;36mpandas._libs.index.IndexEngine.get_loc\u001b[0;34m()\u001b[0m\n",
            "\u001b[0;32mpandas/_libs/index.pyx\u001b[0m in \u001b[0;36mpandas._libs.index.IndexEngine.get_loc\u001b[0;34m()\u001b[0m\n",
            "\u001b[0;32mpandas/_libs/hashtable_class_helper.pxi\u001b[0m in \u001b[0;36mpandas._libs.hashtable.PyObjectHashTable.get_item\u001b[0;34m()\u001b[0m\n",
            "\u001b[0;32mpandas/_libs/hashtable_class_helper.pxi\u001b[0m in \u001b[0;36mpandas._libs.hashtable.PyObjectHashTable.get_item\u001b[0;34m()\u001b[0m\n",
            "\u001b[0;31mKeyError\u001b[0m: 'val3'",
            "\nThe above exception was the direct cause of the following exception:\n",
            "\u001b[0;31mKeyError\u001b[0m                                  Traceback (most recent call last)",
            "\u001b[0;32m<ipython-input-33-6c8c5e4ab305>\u001b[0m in \u001b[0;36m<module>\u001b[0;34m()\u001b[0m\n\u001b[0;32m----> 1\u001b[0;31m \u001b[0;32mdel\u001b[0m \u001b[0mdf\u001b[0m\u001b[0;34m[\u001b[0m\u001b[0;34m'val3'\u001b[0m\u001b[0;34m]\u001b[0m\u001b[0;34m\u001b[0m\u001b[0;34m\u001b[0m\u001b[0m\n\u001b[0m\u001b[1;32m      2\u001b[0m \u001b[0mdf\u001b[0m\u001b[0;34m\u001b[0m\u001b[0;34m\u001b[0m\u001b[0m\n",
            "\u001b[0;32m/usr/local/lib/python3.7/dist-packages/pandas/core/generic.py\u001b[0m in \u001b[0;36m__delitem__\u001b[0;34m(self, key)\u001b[0m\n\u001b[1;32m   3711\u001b[0m             \u001b[0;31m# there was no match, this call should raise the appropriate\u001b[0m\u001b[0;34m\u001b[0m\u001b[0;34m\u001b[0m\u001b[0;34m\u001b[0m\u001b[0m\n\u001b[1;32m   3712\u001b[0m             \u001b[0;31m# exception:\u001b[0m\u001b[0;34m\u001b[0m\u001b[0;34m\u001b[0m\u001b[0;34m\u001b[0m\u001b[0m\n\u001b[0;32m-> 3713\u001b[0;31m             \u001b[0mloc\u001b[0m \u001b[0;34m=\u001b[0m \u001b[0mself\u001b[0m\u001b[0;34m.\u001b[0m\u001b[0maxes\u001b[0m\u001b[0;34m[\u001b[0m\u001b[0;34m-\u001b[0m\u001b[0;36m1\u001b[0m\u001b[0;34m]\u001b[0m\u001b[0;34m.\u001b[0m\u001b[0mget_loc\u001b[0m\u001b[0;34m(\u001b[0m\u001b[0mkey\u001b[0m\u001b[0;34m)\u001b[0m\u001b[0;34m\u001b[0m\u001b[0;34m\u001b[0m\u001b[0m\n\u001b[0m\u001b[1;32m   3714\u001b[0m             \u001b[0mself\u001b[0m\u001b[0;34m.\u001b[0m\u001b[0m_mgr\u001b[0m\u001b[0;34m.\u001b[0m\u001b[0midelete\u001b[0m\u001b[0;34m(\u001b[0m\u001b[0mloc\u001b[0m\u001b[0;34m)\u001b[0m\u001b[0;34m\u001b[0m\u001b[0;34m\u001b[0m\u001b[0m\n\u001b[1;32m   3715\u001b[0m \u001b[0;34m\u001b[0m\u001b[0m\n",
            "\u001b[0;32m/usr/local/lib/python3.7/dist-packages/pandas/core/indexes/base.py\u001b[0m in \u001b[0;36mget_loc\u001b[0;34m(self, key, method, tolerance)\u001b[0m\n\u001b[1;32m   2898\u001b[0m                 \u001b[0;32mreturn\u001b[0m \u001b[0mself\u001b[0m\u001b[0;34m.\u001b[0m\u001b[0m_engine\u001b[0m\u001b[0;34m.\u001b[0m\u001b[0mget_loc\u001b[0m\u001b[0;34m(\u001b[0m\u001b[0mcasted_key\u001b[0m\u001b[0;34m)\u001b[0m\u001b[0;34m\u001b[0m\u001b[0;34m\u001b[0m\u001b[0m\n\u001b[1;32m   2899\u001b[0m             \u001b[0;32mexcept\u001b[0m \u001b[0mKeyError\u001b[0m \u001b[0;32mas\u001b[0m \u001b[0merr\u001b[0m\u001b[0;34m:\u001b[0m\u001b[0;34m\u001b[0m\u001b[0;34m\u001b[0m\u001b[0m\n\u001b[0;32m-> 2900\u001b[0;31m                 \u001b[0;32mraise\u001b[0m \u001b[0mKeyError\u001b[0m\u001b[0;34m(\u001b[0m\u001b[0mkey\u001b[0m\u001b[0;34m)\u001b[0m \u001b[0;32mfrom\u001b[0m \u001b[0merr\u001b[0m\u001b[0;34m\u001b[0m\u001b[0;34m\u001b[0m\u001b[0m\n\u001b[0m\u001b[1;32m   2901\u001b[0m \u001b[0;34m\u001b[0m\u001b[0m\n\u001b[1;32m   2902\u001b[0m         \u001b[0;32mif\u001b[0m \u001b[0mtolerance\u001b[0m \u001b[0;32mis\u001b[0m \u001b[0;32mnot\u001b[0m \u001b[0;32mNone\u001b[0m\u001b[0;34m:\u001b[0m\u001b[0;34m\u001b[0m\u001b[0;34m\u001b[0m\u001b[0m\n",
            "\u001b[0;31mKeyError\u001b[0m: 'val3'"
          ]
        }
      ]
    },
    {
      "cell_type": "markdown",
      "metadata": {
        "id": "XCUogw1TIUuW"
      },
      "source": [
        "## 행 선택"
      ]
    },
    {
      "cell_type": "markdown",
      "metadata": {
        "id": "vDgeUgAqIcol"
      },
      "source": [
        "인덱싱 방법이 다양하다, 버전 업데이트 시 행 인덱싱 방법이 달라질 수 있다"
      ]
    },
    {
      "cell_type": "code",
      "metadata": {
        "colab": {
          "base_uri": "https://localhost:8080/",
          "height": 142
        },
        "id": "M0PR6VLrIN40",
        "outputId": "abee054f-8053-42c3-eff7-d6dcff0b4ffa"
      },
      "source": [
        "df['x1':'x3']"
      ],
      "execution_count": 35,
      "outputs": [
        {
          "output_type": "execute_result",
          "data": {
            "text/html": [
              "<div>\n",
              "<style scoped>\n",
              "    .dataframe tbody tr th:only-of-type {\n",
              "        vertical-align: middle;\n",
              "    }\n",
              "\n",
              "    .dataframe tbody tr th {\n",
              "        vertical-align: top;\n",
              "    }\n",
              "\n",
              "    .dataframe thead th {\n",
              "        text-align: right;\n",
              "    }\n",
              "</style>\n",
              "<table border=\"1\" class=\"dataframe\">\n",
              "  <thead>\n",
              "    <tr style=\"text-align: right;\">\n",
              "      <th></th>\n",
              "      <th>val0</th>\n",
              "      <th>val1</th>\n",
              "      <th>val2</th>\n",
              "      <th>val4</th>\n",
              "      <th>val5</th>\n",
              "      <th>val6</th>\n",
              "      <th>합계</th>\n",
              "      <th>평균</th>\n",
              "    </tr>\n",
              "  </thead>\n",
              "  <tbody>\n",
              "    <tr>\n",
              "      <th>x1</th>\n",
              "      <td>a</td>\n",
              "      <td>10</td>\n",
              "      <td>110</td>\n",
              "      <td>True</td>\n",
              "      <td>a</td>\n",
              "      <td>1</td>\n",
              "      <td>120</td>\n",
              "      <td>60.0</td>\n",
              "    </tr>\n",
              "    <tr>\n",
              "      <th>x2</th>\n",
              "      <td>b</td>\n",
              "      <td>9</td>\n",
              "      <td>90</td>\n",
              "      <td>False</td>\n",
              "      <td>b</td>\n",
              "      <td>2</td>\n",
              "      <td>99</td>\n",
              "      <td>49.5</td>\n",
              "    </tr>\n",
              "    <tr>\n",
              "      <th>x3</th>\n",
              "      <td>c</td>\n",
              "      <td>10</td>\n",
              "      <td>80</td>\n",
              "      <td>False</td>\n",
              "      <td>c</td>\n",
              "      <td>3</td>\n",
              "      <td>90</td>\n",
              "      <td>45.0</td>\n",
              "    </tr>\n",
              "  </tbody>\n",
              "</table>\n",
              "</div>"
            ],
            "text/plain": [
              "   val0  val1  val2   val4 val5  val6   합계    평균\n",
              "x1    a    10   110   True    a     1  120  60.0\n",
              "x2    b     9    90  False    b     2   99  49.5\n",
              "x3    c    10    80  False    c     3   90  45.0"
            ]
          },
          "metadata": {
            "tags": []
          },
          "execution_count": 35
        }
      ]
    },
    {
      "cell_type": "code",
      "metadata": {
        "colab": {
          "base_uri": "https://localhost:8080/",
          "height": 142
        },
        "id": "mfKvnvRmJaHU",
        "outputId": "a007428c-efe9-4e3b-daa2-71827998689d"
      },
      "source": [
        "df[0:3]"
      ],
      "execution_count": 36,
      "outputs": [
        {
          "output_type": "execute_result",
          "data": {
            "text/html": [
              "<div>\n",
              "<style scoped>\n",
              "    .dataframe tbody tr th:only-of-type {\n",
              "        vertical-align: middle;\n",
              "    }\n",
              "\n",
              "    .dataframe tbody tr th {\n",
              "        vertical-align: top;\n",
              "    }\n",
              "\n",
              "    .dataframe thead th {\n",
              "        text-align: right;\n",
              "    }\n",
              "</style>\n",
              "<table border=\"1\" class=\"dataframe\">\n",
              "  <thead>\n",
              "    <tr style=\"text-align: right;\">\n",
              "      <th></th>\n",
              "      <th>val0</th>\n",
              "      <th>val1</th>\n",
              "      <th>val2</th>\n",
              "      <th>val4</th>\n",
              "      <th>val5</th>\n",
              "      <th>val6</th>\n",
              "      <th>합계</th>\n",
              "      <th>평균</th>\n",
              "    </tr>\n",
              "  </thead>\n",
              "  <tbody>\n",
              "    <tr>\n",
              "      <th>x1</th>\n",
              "      <td>a</td>\n",
              "      <td>10</td>\n",
              "      <td>110</td>\n",
              "      <td>True</td>\n",
              "      <td>a</td>\n",
              "      <td>1</td>\n",
              "      <td>120</td>\n",
              "      <td>60.0</td>\n",
              "    </tr>\n",
              "    <tr>\n",
              "      <th>x2</th>\n",
              "      <td>b</td>\n",
              "      <td>9</td>\n",
              "      <td>90</td>\n",
              "      <td>False</td>\n",
              "      <td>b</td>\n",
              "      <td>2</td>\n",
              "      <td>99</td>\n",
              "      <td>49.5</td>\n",
              "    </tr>\n",
              "    <tr>\n",
              "      <th>x3</th>\n",
              "      <td>c</td>\n",
              "      <td>10</td>\n",
              "      <td>80</td>\n",
              "      <td>False</td>\n",
              "      <td>c</td>\n",
              "      <td>3</td>\n",
              "      <td>90</td>\n",
              "      <td>45.0</td>\n",
              "    </tr>\n",
              "  </tbody>\n",
              "</table>\n",
              "</div>"
            ],
            "text/plain": [
              "   val0  val1  val2   val4 val5  val6   합계    평균\n",
              "x1    a    10   110   True    a     1  120  60.0\n",
              "x2    b     9    90  False    b     2   99  49.5\n",
              "x3    c    10    80  False    c     3   90  45.0"
            ]
          },
          "metadata": {
            "tags": []
          },
          "execution_count": 36
        }
      ]
    },
    {
      "cell_type": "markdown",
      "metadata": {
        "id": "y-b-_9njJmz-"
      },
      "source": [
        "# 행열조작 고급"
      ]
    },
    {
      "cell_type": "markdown",
      "metadata": {
        "id": "itNv-qWFKN71"
      },
      "source": [
        "loc:  # label-location\n",
        " - 행 또는 컬럼의 이름으로 선택\n",
        " - 컬럼 이름의 경우 생략이 가능하나, 행 이름의 정보는 필수적이다\n",
        "\n",
        "iloc:  # index-label-location\n",
        " - 행 또는 컬럼의 인덱스 번호로 선택\n",
        " - 컬럼의 경우 생략이 가능하나, 행의 정보는 필수적이다"
      ]
    },
    {
      "cell_type": "code",
      "metadata": {
        "colab": {
          "base_uri": "https://localhost:8080/"
        },
        "id": "I1yvr1NTJe9E",
        "outputId": "08a1b68a-c6c5-4835-f4ef-94bcc6701beb"
      },
      "source": [
        "df.loc['x1']"
      ],
      "execution_count": 38,
      "outputs": [
        {
          "output_type": "execute_result",
          "data": {
            "text/plain": [
              "val0       a\n",
              "val1      10\n",
              "val2     110\n",
              "val4    True\n",
              "val5       a\n",
              "val6       1\n",
              "합계       120\n",
              "평균        60\n",
              "Name: x1, dtype: object"
            ]
          },
          "metadata": {
            "tags": []
          },
          "execution_count": 38
        }
      ]
    },
    {
      "cell_type": "code",
      "metadata": {
        "colab": {
          "base_uri": "https://localhost:8080/"
        },
        "id": "EH87lSS_KNie",
        "outputId": "1068dac9-2365-4498-b838-ccf646f204f4"
      },
      "source": [
        "df.loc['x1', 'val1']"
      ],
      "execution_count": 39,
      "outputs": [
        {
          "output_type": "execute_result",
          "data": {
            "text/plain": [
              "10"
            ]
          },
          "metadata": {
            "tags": []
          },
          "execution_count": 39
        }
      ]
    },
    {
      "cell_type": "code",
      "metadata": {
        "colab": {
          "base_uri": "https://localhost:8080/"
        },
        "id": "O7Kt48jlKzkc",
        "outputId": "1dc44937-4598-457a-d6b0-0a5146055711"
      },
      "source": [
        "df.loc['x1', ['val1', 'val2']]"
      ],
      "execution_count": 41,
      "outputs": [
        {
          "output_type": "execute_result",
          "data": {
            "text/plain": [
              "val1     10\n",
              "val2    110\n",
              "Name: x1, dtype: object"
            ]
          },
          "metadata": {
            "tags": []
          },
          "execution_count": 41
        }
      ]
    },
    {
      "cell_type": "code",
      "metadata": {
        "colab": {
          "base_uri": "https://localhost:8080/",
          "height": 142
        },
        "id": "XqcyqLwXK1A0",
        "outputId": "9d317c38-0de3-4ee5-b411-c2c6488bea9a"
      },
      "source": [
        "df.loc['x1':'x3']"
      ],
      "execution_count": 42,
      "outputs": [
        {
          "output_type": "execute_result",
          "data": {
            "text/html": [
              "<div>\n",
              "<style scoped>\n",
              "    .dataframe tbody tr th:only-of-type {\n",
              "        vertical-align: middle;\n",
              "    }\n",
              "\n",
              "    .dataframe tbody tr th {\n",
              "        vertical-align: top;\n",
              "    }\n",
              "\n",
              "    .dataframe thead th {\n",
              "        text-align: right;\n",
              "    }\n",
              "</style>\n",
              "<table border=\"1\" class=\"dataframe\">\n",
              "  <thead>\n",
              "    <tr style=\"text-align: right;\">\n",
              "      <th></th>\n",
              "      <th>val0</th>\n",
              "      <th>val1</th>\n",
              "      <th>val2</th>\n",
              "      <th>val4</th>\n",
              "      <th>val5</th>\n",
              "      <th>val6</th>\n",
              "      <th>합계</th>\n",
              "      <th>평균</th>\n",
              "    </tr>\n",
              "  </thead>\n",
              "  <tbody>\n",
              "    <tr>\n",
              "      <th>x1</th>\n",
              "      <td>a</td>\n",
              "      <td>10</td>\n",
              "      <td>110</td>\n",
              "      <td>True</td>\n",
              "      <td>a</td>\n",
              "      <td>1</td>\n",
              "      <td>120</td>\n",
              "      <td>60.0</td>\n",
              "    </tr>\n",
              "    <tr>\n",
              "      <th>x2</th>\n",
              "      <td>b</td>\n",
              "      <td>9</td>\n",
              "      <td>90</td>\n",
              "      <td>False</td>\n",
              "      <td>b</td>\n",
              "      <td>2</td>\n",
              "      <td>99</td>\n",
              "      <td>49.5</td>\n",
              "    </tr>\n",
              "    <tr>\n",
              "      <th>x3</th>\n",
              "      <td>c</td>\n",
              "      <td>10</td>\n",
              "      <td>80</td>\n",
              "      <td>False</td>\n",
              "      <td>c</td>\n",
              "      <td>3</td>\n",
              "      <td>90</td>\n",
              "      <td>45.0</td>\n",
              "    </tr>\n",
              "  </tbody>\n",
              "</table>\n",
              "</div>"
            ],
            "text/plain": [
              "   val0  val1  val2   val4 val5  val6   합계    평균\n",
              "x1    a    10   110   True    a     1  120  60.0\n",
              "x2    b     9    90  False    b     2   99  49.5\n",
              "x3    c    10    80  False    c     3   90  45.0"
            ]
          },
          "metadata": {
            "tags": []
          },
          "execution_count": 42
        }
      ]
    },
    {
      "cell_type": "code",
      "metadata": {
        "colab": {
          "base_uri": "https://localhost:8080/"
        },
        "id": "QKta-fo7L-qE",
        "outputId": "43dfd988-6b9b-4b88-f13f-a7c4f1a5f911"
      },
      "source": [
        "df.loc['x1':'x3', 'val1']"
      ],
      "execution_count": 43,
      "outputs": [
        {
          "output_type": "execute_result",
          "data": {
            "text/plain": [
              "x1    10\n",
              "x2     9\n",
              "x3    10\n",
              "Name: val1, dtype: int64"
            ]
          },
          "metadata": {
            "tags": []
          },
          "execution_count": 43
        }
      ]
    },
    {
      "cell_type": "code",
      "metadata": {
        "colab": {
          "base_uri": "https://localhost:8080/",
          "height": 142
        },
        "id": "V3nMTrnCMDSc",
        "outputId": "bcea6c23-6622-4888-810b-afb1c78af64c"
      },
      "source": [
        "df.loc['x1':'x3', ['val1', 'val2']]"
      ],
      "execution_count": 44,
      "outputs": [
        {
          "output_type": "execute_result",
          "data": {
            "text/html": [
              "<div>\n",
              "<style scoped>\n",
              "    .dataframe tbody tr th:only-of-type {\n",
              "        vertical-align: middle;\n",
              "    }\n",
              "\n",
              "    .dataframe tbody tr th {\n",
              "        vertical-align: top;\n",
              "    }\n",
              "\n",
              "    .dataframe thead th {\n",
              "        text-align: right;\n",
              "    }\n",
              "</style>\n",
              "<table border=\"1\" class=\"dataframe\">\n",
              "  <thead>\n",
              "    <tr style=\"text-align: right;\">\n",
              "      <th></th>\n",
              "      <th>val1</th>\n",
              "      <th>val2</th>\n",
              "    </tr>\n",
              "  </thead>\n",
              "  <tbody>\n",
              "    <tr>\n",
              "      <th>x1</th>\n",
              "      <td>10</td>\n",
              "      <td>110</td>\n",
              "    </tr>\n",
              "    <tr>\n",
              "      <th>x2</th>\n",
              "      <td>9</td>\n",
              "      <td>90</td>\n",
              "    </tr>\n",
              "    <tr>\n",
              "      <th>x3</th>\n",
              "      <td>10</td>\n",
              "      <td>80</td>\n",
              "    </tr>\n",
              "  </tbody>\n",
              "</table>\n",
              "</div>"
            ],
            "text/plain": [
              "    val1  val2\n",
              "x1    10   110\n",
              "x2     9    90\n",
              "x3    10    80"
            ]
          },
          "metadata": {
            "tags": []
          },
          "execution_count": 44
        }
      ]
    },
    {
      "cell_type": "code",
      "metadata": {
        "colab": {
          "base_uri": "https://localhost:8080/",
          "height": 142
        },
        "id": "PbSET8tKMGiU",
        "outputId": "4c6eef31-08db-4353-e10e-6381f2b31277"
      },
      "source": [
        "df.loc['x1':'x3', 'val1':'val4']"
      ],
      "execution_count": 45,
      "outputs": [
        {
          "output_type": "execute_result",
          "data": {
            "text/html": [
              "<div>\n",
              "<style scoped>\n",
              "    .dataframe tbody tr th:only-of-type {\n",
              "        vertical-align: middle;\n",
              "    }\n",
              "\n",
              "    .dataframe tbody tr th {\n",
              "        vertical-align: top;\n",
              "    }\n",
              "\n",
              "    .dataframe thead th {\n",
              "        text-align: right;\n",
              "    }\n",
              "</style>\n",
              "<table border=\"1\" class=\"dataframe\">\n",
              "  <thead>\n",
              "    <tr style=\"text-align: right;\">\n",
              "      <th></th>\n",
              "      <th>val1</th>\n",
              "      <th>val2</th>\n",
              "      <th>val4</th>\n",
              "    </tr>\n",
              "  </thead>\n",
              "  <tbody>\n",
              "    <tr>\n",
              "      <th>x1</th>\n",
              "      <td>10</td>\n",
              "      <td>110</td>\n",
              "      <td>True</td>\n",
              "    </tr>\n",
              "    <tr>\n",
              "      <th>x2</th>\n",
              "      <td>9</td>\n",
              "      <td>90</td>\n",
              "      <td>False</td>\n",
              "    </tr>\n",
              "    <tr>\n",
              "      <th>x3</th>\n",
              "      <td>10</td>\n",
              "      <td>80</td>\n",
              "      <td>False</td>\n",
              "    </tr>\n",
              "  </tbody>\n",
              "</table>\n",
              "</div>"
            ],
            "text/plain": [
              "    val1  val2   val4\n",
              "x1    10   110   True\n",
              "x2     9    90  False\n",
              "x3    10    80  False"
            ]
          },
          "metadata": {
            "tags": []
          },
          "execution_count": 45
        }
      ]
    },
    {
      "cell_type": "code",
      "metadata": {
        "colab": {
          "base_uri": "https://localhost:8080/",
          "height": 173
        },
        "id": "rCAnsMkcMKck",
        "outputId": "7b842f6b-b070-4605-a4cf-b88565537c18"
      },
      "source": [
        "df.iloc[:,:]"
      ],
      "execution_count": 46,
      "outputs": [
        {
          "output_type": "execute_result",
          "data": {
            "text/html": [
              "<div>\n",
              "<style scoped>\n",
              "    .dataframe tbody tr th:only-of-type {\n",
              "        vertical-align: middle;\n",
              "    }\n",
              "\n",
              "    .dataframe tbody tr th {\n",
              "        vertical-align: top;\n",
              "    }\n",
              "\n",
              "    .dataframe thead th {\n",
              "        text-align: right;\n",
              "    }\n",
              "</style>\n",
              "<table border=\"1\" class=\"dataframe\">\n",
              "  <thead>\n",
              "    <tr style=\"text-align: right;\">\n",
              "      <th></th>\n",
              "      <th>val0</th>\n",
              "      <th>val1</th>\n",
              "      <th>val2</th>\n",
              "      <th>val4</th>\n",
              "      <th>val5</th>\n",
              "      <th>val6</th>\n",
              "      <th>합계</th>\n",
              "      <th>평균</th>\n",
              "    </tr>\n",
              "  </thead>\n",
              "  <tbody>\n",
              "    <tr>\n",
              "      <th>x1</th>\n",
              "      <td>a</td>\n",
              "      <td>10</td>\n",
              "      <td>110</td>\n",
              "      <td>True</td>\n",
              "      <td>a</td>\n",
              "      <td>1</td>\n",
              "      <td>120</td>\n",
              "      <td>60.0</td>\n",
              "    </tr>\n",
              "    <tr>\n",
              "      <th>x2</th>\n",
              "      <td>b</td>\n",
              "      <td>9</td>\n",
              "      <td>90</td>\n",
              "      <td>False</td>\n",
              "      <td>b</td>\n",
              "      <td>2</td>\n",
              "      <td>99</td>\n",
              "      <td>49.5</td>\n",
              "    </tr>\n",
              "    <tr>\n",
              "      <th>x3</th>\n",
              "      <td>c</td>\n",
              "      <td>10</td>\n",
              "      <td>80</td>\n",
              "      <td>False</td>\n",
              "      <td>c</td>\n",
              "      <td>3</td>\n",
              "      <td>90</td>\n",
              "      <td>45.0</td>\n",
              "    </tr>\n",
              "    <tr>\n",
              "      <th>x4</th>\n",
              "      <td>d</td>\n",
              "      <td>20</td>\n",
              "      <td>150</td>\n",
              "      <td>True</td>\n",
              "      <td>d</td>\n",
              "      <td>4</td>\n",
              "      <td>170</td>\n",
              "      <td>85.0</td>\n",
              "    </tr>\n",
              "  </tbody>\n",
              "</table>\n",
              "</div>"
            ],
            "text/plain": [
              "   val0  val1  val2   val4 val5  val6   합계    평균\n",
              "x1    a    10   110   True    a     1  120  60.0\n",
              "x2    b     9    90  False    b     2   99  49.5\n",
              "x3    c    10    80  False    c     3   90  45.0\n",
              "x4    d    20   150   True    d     4  170  85.0"
            ]
          },
          "metadata": {
            "tags": []
          },
          "execution_count": 46
        }
      ]
    },
    {
      "cell_type": "code",
      "metadata": {
        "colab": {
          "base_uri": "https://localhost:8080/"
        },
        "id": "TIzFVrQeM_zk",
        "outputId": "c4c3687f-efd4-4185-e570-c9df7747733d"
      },
      "source": [
        "df.iloc[1]"
      ],
      "execution_count": 47,
      "outputs": [
        {
          "output_type": "execute_result",
          "data": {
            "text/plain": [
              "val0        b\n",
              "val1        9\n",
              "val2       90\n",
              "val4    False\n",
              "val5        b\n",
              "val6        2\n",
              "합계         99\n",
              "평균       49.5\n",
              "Name: x2, dtype: object"
            ]
          },
          "metadata": {
            "tags": []
          },
          "execution_count": 47
        }
      ]
    },
    {
      "cell_type": "markdown",
      "metadata": {
        "id": "KeP0swnJNvtf"
      },
      "source": [
        "# 행 추가"
      ]
    },
    {
      "cell_type": "markdown",
      "metadata": {
        "id": "Omm9HtGJN3NX"
      },
      "source": [
        "결측치도 추가하겠음 (missing value)\n",
        "결측치를 생성하기 위해서는 numpy를 활용해야함"
      ]
    },
    {
      "cell_type": "code",
      "metadata": {
        "id": "0kg2aTyyNBz0"
      },
      "source": [
        "import numpy as np"
      ],
      "execution_count": 48,
      "outputs": []
    },
    {
      "cell_type": "code",
      "metadata": {
        "colab": {
          "base_uri": "https://localhost:8080/"
        },
        "id": "frSA565XN2av",
        "outputId": "724d29e5-3136-40f5-c957-6499f871469e"
      },
      "source": [
        "np.nan # np.NaN"
      ],
      "execution_count": 49,
      "outputs": [
        {
          "output_type": "execute_result",
          "data": {
            "text/plain": [
              "nan"
            ]
          },
          "metadata": {
            "tags": []
          },
          "execution_count": 49
        }
      ]
    },
    {
      "cell_type": "code",
      "metadata": {
        "id": "N_xceVnZN1RE"
      },
      "source": [
        "df.loc['x9'] = ['b', 7, 100, np.nan, np.nan, np.nan, np.nan, np.nan] # 열의 개수에 맞게 추가해야함"
      ],
      "execution_count": 51,
      "outputs": []
    },
    {
      "cell_type": "code",
      "metadata": {
        "colab": {
          "base_uri": "https://localhost:8080/",
          "height": 204
        },
        "id": "kE5OrssoO0W8",
        "outputId": "a3dd5349-29cb-4dcb-f018-2e2db997e166"
      },
      "source": [
        "df #  결측치를 사용하면 좋은 점은 열의 데이터 타입이 어떤 것이던지 결측치를 넣을 수 있다"
      ],
      "execution_count": 53,
      "outputs": [
        {
          "output_type": "execute_result",
          "data": {
            "text/html": [
              "<div>\n",
              "<style scoped>\n",
              "    .dataframe tbody tr th:only-of-type {\n",
              "        vertical-align: middle;\n",
              "    }\n",
              "\n",
              "    .dataframe tbody tr th {\n",
              "        vertical-align: top;\n",
              "    }\n",
              "\n",
              "    .dataframe thead th {\n",
              "        text-align: right;\n",
              "    }\n",
              "</style>\n",
              "<table border=\"1\" class=\"dataframe\">\n",
              "  <thead>\n",
              "    <tr style=\"text-align: right;\">\n",
              "      <th></th>\n",
              "      <th>val0</th>\n",
              "      <th>val1</th>\n",
              "      <th>val2</th>\n",
              "      <th>val4</th>\n",
              "      <th>val5</th>\n",
              "      <th>val6</th>\n",
              "      <th>합계</th>\n",
              "      <th>평균</th>\n",
              "    </tr>\n",
              "  </thead>\n",
              "  <tbody>\n",
              "    <tr>\n",
              "      <th>x1</th>\n",
              "      <td>a</td>\n",
              "      <td>10</td>\n",
              "      <td>110</td>\n",
              "      <td>1.0</td>\n",
              "      <td>a</td>\n",
              "      <td>1.0</td>\n",
              "      <td>120.0</td>\n",
              "      <td>60.0</td>\n",
              "    </tr>\n",
              "    <tr>\n",
              "      <th>x2</th>\n",
              "      <td>b</td>\n",
              "      <td>9</td>\n",
              "      <td>90</td>\n",
              "      <td>0.0</td>\n",
              "      <td>b</td>\n",
              "      <td>2.0</td>\n",
              "      <td>99.0</td>\n",
              "      <td>49.5</td>\n",
              "    </tr>\n",
              "    <tr>\n",
              "      <th>x3</th>\n",
              "      <td>c</td>\n",
              "      <td>10</td>\n",
              "      <td>80</td>\n",
              "      <td>0.0</td>\n",
              "      <td>c</td>\n",
              "      <td>3.0</td>\n",
              "      <td>90.0</td>\n",
              "      <td>45.0</td>\n",
              "    </tr>\n",
              "    <tr>\n",
              "      <th>x4</th>\n",
              "      <td>d</td>\n",
              "      <td>20</td>\n",
              "      <td>150</td>\n",
              "      <td>1.0</td>\n",
              "      <td>d</td>\n",
              "      <td>4.0</td>\n",
              "      <td>170.0</td>\n",
              "      <td>85.0</td>\n",
              "    </tr>\n",
              "    <tr>\n",
              "      <th>x9</th>\n",
              "      <td>b</td>\n",
              "      <td>7</td>\n",
              "      <td>100</td>\n",
              "      <td>NaN</td>\n",
              "      <td>NaN</td>\n",
              "      <td>NaN</td>\n",
              "      <td>NaN</td>\n",
              "      <td>NaN</td>\n",
              "    </tr>\n",
              "  </tbody>\n",
              "</table>\n",
              "</div>"
            ],
            "text/plain": [
              "   val0  val1  val2  val4 val5  val6     합계    평균\n",
              "x1    a    10   110   1.0    a   1.0  120.0  60.0\n",
              "x2    b     9    90   0.0    b   2.0   99.0  49.5\n",
              "x3    c    10    80   0.0    c   3.0   90.0  45.0\n",
              "x4    d    20   150   1.0    d   4.0  170.0  85.0\n",
              "x9    b     7   100   NaN  NaN   NaN    NaN   NaN"
            ]
          },
          "metadata": {
            "tags": []
          },
          "execution_count": 53
        }
      ]
    },
    {
      "cell_type": "code",
      "metadata": {
        "id": "pXfPKjuRPDyE"
      },
      "source": [
        "df.loc['x10'] = ['b', 7, 100, np.nan, np.nan, np.nan, np.nan, 'NaN']"
      ],
      "execution_count": 55,
      "outputs": []
    },
    {
      "cell_type": "code",
      "metadata": {
        "colab": {
          "base_uri": "https://localhost:8080/",
          "height": 235
        },
        "id": "1YfzfWdsPMPk",
        "outputId": "ab4d4b85-7a93-4654-969f-d1e0f3326b30"
      },
      "source": [
        "df #  조심해야할 것은 NaN이 문자인 경우이다"
      ],
      "execution_count": 56,
      "outputs": [
        {
          "output_type": "execute_result",
          "data": {
            "text/html": [
              "<div>\n",
              "<style scoped>\n",
              "    .dataframe tbody tr th:only-of-type {\n",
              "        vertical-align: middle;\n",
              "    }\n",
              "\n",
              "    .dataframe tbody tr th {\n",
              "        vertical-align: top;\n",
              "    }\n",
              "\n",
              "    .dataframe thead th {\n",
              "        text-align: right;\n",
              "    }\n",
              "</style>\n",
              "<table border=\"1\" class=\"dataframe\">\n",
              "  <thead>\n",
              "    <tr style=\"text-align: right;\">\n",
              "      <th></th>\n",
              "      <th>val0</th>\n",
              "      <th>val1</th>\n",
              "      <th>val2</th>\n",
              "      <th>val4</th>\n",
              "      <th>val5</th>\n",
              "      <th>val6</th>\n",
              "      <th>합계</th>\n",
              "      <th>평균</th>\n",
              "    </tr>\n",
              "  </thead>\n",
              "  <tbody>\n",
              "    <tr>\n",
              "      <th>x1</th>\n",
              "      <td>a</td>\n",
              "      <td>10</td>\n",
              "      <td>110</td>\n",
              "      <td>1.0</td>\n",
              "      <td>a</td>\n",
              "      <td>1.0</td>\n",
              "      <td>120.0</td>\n",
              "      <td>60</td>\n",
              "    </tr>\n",
              "    <tr>\n",
              "      <th>x2</th>\n",
              "      <td>b</td>\n",
              "      <td>9</td>\n",
              "      <td>90</td>\n",
              "      <td>0.0</td>\n",
              "      <td>b</td>\n",
              "      <td>2.0</td>\n",
              "      <td>99.0</td>\n",
              "      <td>49.5</td>\n",
              "    </tr>\n",
              "    <tr>\n",
              "      <th>x3</th>\n",
              "      <td>c</td>\n",
              "      <td>10</td>\n",
              "      <td>80</td>\n",
              "      <td>0.0</td>\n",
              "      <td>c</td>\n",
              "      <td>3.0</td>\n",
              "      <td>90.0</td>\n",
              "      <td>45</td>\n",
              "    </tr>\n",
              "    <tr>\n",
              "      <th>x4</th>\n",
              "      <td>d</td>\n",
              "      <td>20</td>\n",
              "      <td>150</td>\n",
              "      <td>1.0</td>\n",
              "      <td>d</td>\n",
              "      <td>4.0</td>\n",
              "      <td>170.0</td>\n",
              "      <td>85</td>\n",
              "    </tr>\n",
              "    <tr>\n",
              "      <th>x9</th>\n",
              "      <td>b</td>\n",
              "      <td>7</td>\n",
              "      <td>100</td>\n",
              "      <td>NaN</td>\n",
              "      <td>NaN</td>\n",
              "      <td>NaN</td>\n",
              "      <td>NaN</td>\n",
              "      <td>NaN</td>\n",
              "    </tr>\n",
              "    <tr>\n",
              "      <th>x10</th>\n",
              "      <td>b</td>\n",
              "      <td>7</td>\n",
              "      <td>100</td>\n",
              "      <td>NaN</td>\n",
              "      <td>NaN</td>\n",
              "      <td>NaN</td>\n",
              "      <td>NaN</td>\n",
              "      <td>NaN</td>\n",
              "    </tr>\n",
              "  </tbody>\n",
              "</table>\n",
              "</div>"
            ],
            "text/plain": [
              "    val0  val1  val2  val4 val5  val6     합계    평균\n",
              "x1     a    10   110   1.0    a   1.0  120.0    60\n",
              "x2     b     9    90   0.0    b   2.0   99.0  49.5\n",
              "x3     c    10    80   0.0    c   3.0   90.0    45\n",
              "x4     d    20   150   1.0    d   4.0  170.0    85\n",
              "x9     b     7   100   NaN  NaN   NaN    NaN   NaN\n",
              "x10    b     7   100   NaN  NaN   NaN    NaN   NaN"
            ]
          },
          "metadata": {
            "tags": []
          },
          "execution_count": 56
        }
      ]
    },
    {
      "cell_type": "code",
      "metadata": {
        "colab": {
          "base_uri": "https://localhost:8080/",
          "height": 204
        },
        "id": "4WMKoIhZPOy-",
        "outputId": "587c2650-8599-418d-c22b-6af25dcfa675"
      },
      "source": [
        "df.tail()"
      ],
      "execution_count": 57,
      "outputs": [
        {
          "output_type": "execute_result",
          "data": {
            "text/html": [
              "<div>\n",
              "<style scoped>\n",
              "    .dataframe tbody tr th:only-of-type {\n",
              "        vertical-align: middle;\n",
              "    }\n",
              "\n",
              "    .dataframe tbody tr th {\n",
              "        vertical-align: top;\n",
              "    }\n",
              "\n",
              "    .dataframe thead th {\n",
              "        text-align: right;\n",
              "    }\n",
              "</style>\n",
              "<table border=\"1\" class=\"dataframe\">\n",
              "  <thead>\n",
              "    <tr style=\"text-align: right;\">\n",
              "      <th></th>\n",
              "      <th>val0</th>\n",
              "      <th>val1</th>\n",
              "      <th>val2</th>\n",
              "      <th>val4</th>\n",
              "      <th>val5</th>\n",
              "      <th>val6</th>\n",
              "      <th>합계</th>\n",
              "      <th>평균</th>\n",
              "    </tr>\n",
              "  </thead>\n",
              "  <tbody>\n",
              "    <tr>\n",
              "      <th>x2</th>\n",
              "      <td>b</td>\n",
              "      <td>9</td>\n",
              "      <td>90</td>\n",
              "      <td>0.0</td>\n",
              "      <td>b</td>\n",
              "      <td>2.0</td>\n",
              "      <td>99.0</td>\n",
              "      <td>49.5</td>\n",
              "    </tr>\n",
              "    <tr>\n",
              "      <th>x3</th>\n",
              "      <td>c</td>\n",
              "      <td>10</td>\n",
              "      <td>80</td>\n",
              "      <td>0.0</td>\n",
              "      <td>c</td>\n",
              "      <td>3.0</td>\n",
              "      <td>90.0</td>\n",
              "      <td>45</td>\n",
              "    </tr>\n",
              "    <tr>\n",
              "      <th>x4</th>\n",
              "      <td>d</td>\n",
              "      <td>20</td>\n",
              "      <td>150</td>\n",
              "      <td>1.0</td>\n",
              "      <td>d</td>\n",
              "      <td>4.0</td>\n",
              "      <td>170.0</td>\n",
              "      <td>85</td>\n",
              "    </tr>\n",
              "    <tr>\n",
              "      <th>x9</th>\n",
              "      <td>b</td>\n",
              "      <td>7</td>\n",
              "      <td>100</td>\n",
              "      <td>NaN</td>\n",
              "      <td>NaN</td>\n",
              "      <td>NaN</td>\n",
              "      <td>NaN</td>\n",
              "      <td>NaN</td>\n",
              "    </tr>\n",
              "    <tr>\n",
              "      <th>x10</th>\n",
              "      <td>b</td>\n",
              "      <td>7</td>\n",
              "      <td>100</td>\n",
              "      <td>NaN</td>\n",
              "      <td>NaN</td>\n",
              "      <td>NaN</td>\n",
              "      <td>NaN</td>\n",
              "      <td>NaN</td>\n",
              "    </tr>\n",
              "  </tbody>\n",
              "</table>\n",
              "</div>"
            ],
            "text/plain": [
              "    val0  val1  val2  val4 val5  val6     합계    평균\n",
              "x2     b     9    90   0.0    b   2.0   99.0  49.5\n",
              "x3     c    10    80   0.0    c   3.0   90.0    45\n",
              "x4     d    20   150   1.0    d   4.0  170.0    85\n",
              "x9     b     7   100   NaN  NaN   NaN    NaN   NaN\n",
              "x10    b     7   100   NaN  NaN   NaN    NaN   NaN"
            ]
          },
          "metadata": {
            "tags": []
          },
          "execution_count": 57
        }
      ]
    },
    {
      "cell_type": "code",
      "metadata": {
        "colab": {
          "base_uri": "https://localhost:8080/",
          "height": 204
        },
        "id": "Cm7OrXPHPQ0c",
        "outputId": "6b20cc9b-945f-44a6-908a-0677cf6f5c21"
      },
      "source": [
        "df.head()"
      ],
      "execution_count": 58,
      "outputs": [
        {
          "output_type": "execute_result",
          "data": {
            "text/html": [
              "<div>\n",
              "<style scoped>\n",
              "    .dataframe tbody tr th:only-of-type {\n",
              "        vertical-align: middle;\n",
              "    }\n",
              "\n",
              "    .dataframe tbody tr th {\n",
              "        vertical-align: top;\n",
              "    }\n",
              "\n",
              "    .dataframe thead th {\n",
              "        text-align: right;\n",
              "    }\n",
              "</style>\n",
              "<table border=\"1\" class=\"dataframe\">\n",
              "  <thead>\n",
              "    <tr style=\"text-align: right;\">\n",
              "      <th></th>\n",
              "      <th>val0</th>\n",
              "      <th>val1</th>\n",
              "      <th>val2</th>\n",
              "      <th>val4</th>\n",
              "      <th>val5</th>\n",
              "      <th>val6</th>\n",
              "      <th>합계</th>\n",
              "      <th>평균</th>\n",
              "    </tr>\n",
              "  </thead>\n",
              "  <tbody>\n",
              "    <tr>\n",
              "      <th>x1</th>\n",
              "      <td>a</td>\n",
              "      <td>10</td>\n",
              "      <td>110</td>\n",
              "      <td>1.0</td>\n",
              "      <td>a</td>\n",
              "      <td>1.0</td>\n",
              "      <td>120.0</td>\n",
              "      <td>60</td>\n",
              "    </tr>\n",
              "    <tr>\n",
              "      <th>x2</th>\n",
              "      <td>b</td>\n",
              "      <td>9</td>\n",
              "      <td>90</td>\n",
              "      <td>0.0</td>\n",
              "      <td>b</td>\n",
              "      <td>2.0</td>\n",
              "      <td>99.0</td>\n",
              "      <td>49.5</td>\n",
              "    </tr>\n",
              "    <tr>\n",
              "      <th>x3</th>\n",
              "      <td>c</td>\n",
              "      <td>10</td>\n",
              "      <td>80</td>\n",
              "      <td>0.0</td>\n",
              "      <td>c</td>\n",
              "      <td>3.0</td>\n",
              "      <td>90.0</td>\n",
              "      <td>45</td>\n",
              "    </tr>\n",
              "    <tr>\n",
              "      <th>x4</th>\n",
              "      <td>d</td>\n",
              "      <td>20</td>\n",
              "      <td>150</td>\n",
              "      <td>1.0</td>\n",
              "      <td>d</td>\n",
              "      <td>4.0</td>\n",
              "      <td>170.0</td>\n",
              "      <td>85</td>\n",
              "    </tr>\n",
              "    <tr>\n",
              "      <th>x9</th>\n",
              "      <td>b</td>\n",
              "      <td>7</td>\n",
              "      <td>100</td>\n",
              "      <td>NaN</td>\n",
              "      <td>NaN</td>\n",
              "      <td>NaN</td>\n",
              "      <td>NaN</td>\n",
              "      <td>NaN</td>\n",
              "    </tr>\n",
              "  </tbody>\n",
              "</table>\n",
              "</div>"
            ],
            "text/plain": [
              "   val0  val1  val2  val4 val5  val6     합계    평균\n",
              "x1    a    10   110   1.0    a   1.0  120.0    60\n",
              "x2    b     9    90   0.0    b   2.0   99.0  49.5\n",
              "x3    c    10    80   0.0    c   3.0   90.0    45\n",
              "x4    d    20   150   1.0    d   4.0  170.0    85\n",
              "x9    b     7   100   NaN  NaN   NaN    NaN   NaN"
            ]
          },
          "metadata": {
            "tags": []
          },
          "execution_count": 58
        }
      ]
    },
    {
      "cell_type": "code",
      "metadata": {
        "id": "m2e_WMkePSbc"
      },
      "source": [
        ""
      ],
      "execution_count": null,
      "outputs": []
    }
  ]
}